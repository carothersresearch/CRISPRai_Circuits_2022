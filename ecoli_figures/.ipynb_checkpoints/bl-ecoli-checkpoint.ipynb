{
 "cells": [
  {
   "cell_type": "code",
   "execution_count": null,
   "metadata": {},
   "outputs": [],
   "source": [
    "from utils import *\n",
    "from os import walk\n",
    "from adjustText import adjust_text"
   ]
  },
  {
   "cell_type": "code",
   "execution_count": null,
   "metadata": {},
   "outputs": [],
   "source": [
    "path = 'data/bl/ecoli/v2/'\n",
    "(_,_,filenames) = list(walk(path))[0]"
   ]
  },
  {
   "cell_type": "code",
   "execution_count": null,
   "metadata": {},
   "outputs": [],
   "source": [
    "read_OD = lambda f: pd.read_csv(path+f, delimiter  = '\\t', skiprows = 45, index_col = (13,0)).loc['600'].set_index('Unnamed: 0')\n",
    "OD = {f[:-4] : read_OD(f) for f in filenames if f[-3:] == 'txt'}\n",
    "\n",
    "read_RFP= lambda f: pd.read_csv(path+f, delimiter  = '\\t', skiprows = 45, index_col = (13,0)).loc['RFP:540/35,600/40'].set_index('Unnamed: 0').set_index(OD[f[:-4]].index)\n",
    "RFP = {f[:-4] : read_RFP(f) for f in filenames if f[-3:] == 'txt'}"
   ]
  },
  {
   "cell_type": "code",
   "execution_count": null,
   "metadata": {},
   "outputs": [],
   "source": [
    "plate = pd.read_csv('data/bl/ecoli/220204_LAYOUT.csv', index_col = 0, dtype = str) # reads plate layout\n",
    "\n",
    "# go through the plate layout and identify replicates, make a dictionary of experiments with list of replicate wells\n",
    "labels = pd.unique(np.concatenate(plate.values))\n",
    "exps = {}\n",
    "xlbl = []\n",
    "for l in labels:\n",
    "    if type(l) is str:\n",
    "        xlbl.append(l)\n",
    "        index = plate[plate.isin([l])].stack().index\n",
    "        exps[l] = []\n",
    "        for i in index:\n",
    "            exps[l].append((i[0], i[1]))\n",
    "            \n",
    "lib = [(r,c) for r in RFP['controls_OFF_v2'].index for c in RFP['controls_OFF_v2'].columns]\n",
    "\n",
    "get_data = lambda X, df, lbl: np.array([df[lbl].loc[x] for x in X])\n",
    "get_ratio = lambda X, lbl: get_data(X,RFP,lbl)/get_data(X,OD,lbl)"
   ]
  },
  {
   "cell_type": "code",
   "execution_count": null,
   "metadata": {},
   "outputs": [],
   "source": [
    "bg = get_ratio(exps['J2'], 'controls_OFF_v2').mean()"
   ]
  },
  {
   "cell_type": "code",
   "execution_count": null,
   "metadata": {},
   "outputs": [],
   "source": [
    "plt.figure(figsize=(5,5))\n",
    "\n",
    "basal_screen = (get_ratio(lib, 'pWS025_OFF_v2')-bg)\n",
    "dr_screen = ((get_ratio(lib, 'pWS025_ON_v2')-bg) / (get_ratio(lib, 'pWS025_OFF_v2')-bg))\n",
    "plt.plot(basal_screen,dr_screen,'ko', alpha = 0.3)\n",
    "plt.plot((get_ratio(lib, 'controls_OFF_v2')-bg),((get_ratio(lib, 'controls_ON_v2')-bg) / (get_ratio(lib, 'controls_OFF_v2')-bg)),'ko', alpha = 0.1)\n",
    "\n",
    "for l,c,lbl in zip(['BL113','Bllux','119'],['ko','go','ro'],['113','OG','119']):\n",
    "    basal = (get_ratio(exps[l], 'controls_OFF_v2')-bg)         \n",
    "    dr = (get_ratio(exps[l], 'controls_ON_v2')-bg) / (get_ratio(exps[l], 'controls_OFF_v2')-bg)\n",
    "               \n",
    "    plt.errorbar(basal.mean(), dr.mean(), xerr = basal.std(), yerr = dr.std(),fmt= c, label = lbl)\n",
    "\n",
    "for v in np.where(*[((get_ratio(lib, 'pWS025_ON_v2')-bg) / (get_ratio(lib, 'pWS025_OFF_v2')-bg)) > 3.24]):\n",
    "    plt.scatter(basal_screen[v],dr_screen[v], color = 'r', alpha = 1, s = 200,facecolors='none')\n",
    "\n",
    "    \n",
    "\n",
    "plt.xscale('log')\n",
    "plt.plot([0,30000],[1,1],'k--', alpha = 0.5)\n",
    "plt.ylim([0,5])\n",
    "plt.xlim([1,20000])\n",
    "plt.legend(ncol=4, handlelength = 1.5, fontsize = 12)\n",
    "plt.gca().set_aspect(1./plt.gca().get_data_ratio())\n",
    "plt.xlabel('Basal RFP/OD$_{600}$', labelpad = xpad, fontsize = 24)\n",
    "plt.ylabel('Dynamic Range', labelpad = ypad, fontsize = 24)\n",
    "plt.title('EL222 promoter screen', pad = xpad*2)"
   ]
  },
  {
   "cell_type": "code",
   "execution_count": null,
   "metadata": {},
   "outputs": [],
   "source": []
  }
 ],
 "metadata": {
  "kernelspec": {
   "display_name": "Python 3",
   "language": "python",
   "name": "python3"
  },
  "language_info": {
   "codemirror_mode": {
    "name": "ipython",
    "version": 3
   },
   "file_extension": ".py",
   "mimetype": "text/x-python",
   "name": "python",
   "nbconvert_exporter": "python",
   "pygments_lexer": "ipython3",
   "version": "3.7.6"
  }
 },
 "nbformat": 4,
 "nbformat_minor": 4
}
