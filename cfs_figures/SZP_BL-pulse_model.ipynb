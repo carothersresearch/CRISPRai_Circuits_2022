{
 "cells": [
  {
   "cell_type": "code",
   "execution_count": 1,
   "metadata": {},
   "outputs": [
    {
     "data": {
      "application/javascript": [
       "IPython.OutputArea.prototype._should_scroll = function(lines) {\n",
       "    return false;\n",
       "}\n"
      ],
      "text/plain": [
       "<IPython.core.display.Javascript object>"
      ]
     },
     "metadata": {},
     "output_type": "display_data"
    }
   ],
   "source": [
    "%%javascript\n",
    "IPython.OutputArea.prototype._should_scroll = function(lines) {\n",
    "    return false;\n",
    "}"
   ]
  },
  {
   "cell_type": "code",
   "execution_count": 2,
   "metadata": {},
   "outputs": [],
   "source": [
    "import numpy as np\n",
    "import tellurium as te\n",
    "import matplotlib.pyplot as plt\n",
    "import matplotlib as mpl\n",
    "import lmfit\n",
    "import pandas as pd\n",
    "import pickle"
   ]
  },
  {
   "cell_type": "code",
   "execution_count": 3,
   "metadata": {},
   "outputs": [],
   "source": [
    "pad = 5\n",
    "xpad = 15\n",
    "ypad = 10\n",
    "\n",
    "mpl.rcParams['lines.linewidth'] = 2\n",
    "mpl.rcParams['lines.linestyle'] = '-'\n",
    "mpl.rcParams['figure.figsize'] = 13,12\n",
    "\n",
    "mpl.rcParams['axes.linewidth'] = 3\n",
    "mpl.rcParams['axes.labelsize'] = 25\n",
    "mpl.rcParams['axes.labelweight'] = 'bold'\n",
    "mpl.rcParams['axes.titlesize'] = 25\n",
    "mpl.rcParams['axes.titleweight'] = 'bold'\n",
    "\n",
    "mpl.rcParams['font.family'] = 'Arial'\n",
    "mpl.rcParams['font.size'] = '16'\n",
    "\n",
    "color = 'black'\n",
    "alpha = 0.1\n",
    "markersize = 60\n",
    "capsize = 6\n",
    "elinewidth = 2"
   ]
  },
  {
   "cell_type": "markdown",
   "metadata": {},
   "source": [
    "## Model Definition and Parameter Initialization <a name=\"txtl-model\"></a>"
   ]
  },
  {
   "cell_type": "code",
   "execution_count": 4,
   "metadata": {},
   "outputs": [],
   "source": [
    "CRISPRa_model = '''\n",
    "    dCas9_DNA -> dCas9_DNA + dCas9_ON; ktC*dCas9_DNA\n",
    "    \n",
    "    SoxS_DNA -> SoxS_DNA + SoxS_ON; ktS*SoxS_DNA\n",
    "    \n",
    "    RFP_DNA -> RFP_DNA + RFP_ON; 0*ktR0*RFP_DNA\n",
    "    \n",
    "    scRNA_DNA -> scRNA_DNA + scRNA; ktg10*scRNA_DNA\n",
    "    scRNA -> ; kdeg*scRNA\n",
    "    \n",
    "    gRNA_DNA -> gRNA_DNA + gRNA; BL*ktg20*gRNA_DNA\n",
    "    gRNA -> ; kdeg*gRNA\n",
    "    \n",
    "    dCas9_ON + SoxS_ON + scRNA -> CRISPRa; cond*ka*dCas9_ON*SoxS_ON*scRNA\n",
    "    dCas9_ON + gRNA -> CRISPRi; ki*dCas9_ON*gRNA\n",
    "\n",
    "    \n",
    "    RFP_DNA + CRISPRa -> A_RFP_DNA; caskon*RFP_DNA*CRISPRa/1000\n",
    "    A_RFP_DNA -> A_RFP_DNA + RFP_ON; ktR1*A_RFP_DNA\n",
    "    \n",
    "    RFP_DNA + CRISPRi -> I_RFP_DNA; caskon*RFP_DNA*CRISPRi/1000\n",
    "    A_RFP_DNA + CRISPRi -> I_RFP_DNA; caskon*A_RFP_DNA*CRISPRi/1000\n",
    "    I_RFP_DNA + CRISPRa -> I_RFP_DNA; caskon*I_RFP_DNA*CRISPRa/1000\n",
    "    \n",
    "    dCas9_DNA = 4; SoxS_DNA = 5; RFP_DNA = {11}; scRNA_DNA = {12}; gRNA_DNA = {13}\n",
    "    \n",
    "    ktC = {0}; ktS = {1}; ktR0 = {2}; \n",
    "    \n",
    "    ktg10 = {3}; ktg20 = {4};\n",
    "    \n",
    "    ka = {5}; ki = {6};\n",
    "    \n",
    "    ktR1 = {7}; ktg21 = {8};\n",
    "    \n",
    "    caskon = {9}; kdeg = {10};\n",
    "    \n",
    "    pwidth = {14};\n",
    "    ton = {15};\n",
    "    toff = {16};\n",
    "    td = 2;\n",
    "\n",
    "    BL := piecewise (0, (time >=0) && (time <= (td*60*60)),\\\n",
    "                     (blmax/(ton*60*60))*(time-td*60*60), (time >= (td*60*60)) && (time <= ((ton+td)*60*60)),\\\n",
    "                     blmax, (time >=(td+ton)*60*60) && (time <= (td+ton+pwidth)*60*60),\\\n",
    "                     (-blmax/(toff*60*60))*(time-(td+ton+pwidth)*60*60)+blmax, (time >= ((td+ton+pwidth)*60*60)) && (time <= ((td+ton+pwidth+toff)*60*60)),\\\n",
    "                     0)\n",
    "    blmax = 0.008\n",
    "    cond = 0.3\n",
    "\n",
    "'''"
   ]
  },
  {
   "cell_type": "code",
   "execution_count": 5,
   "metadata": {},
   "outputs": [],
   "source": [
    "out = pickle.load(open(\"param.dat\",\"rb\"))\n",
    "out.params.add('pwidth')\n",
    "out.params.add('ton')\n",
    "out.params.add('toff')\n"
   ]
  },
  {
   "cell_type": "code",
   "execution_count": 6,
   "metadata": {},
   "outputs": [
    {
     "data": {
      "text/html": [
       "<table><tr><th> name </th><th> value </th><th> initial value </th><th> min </th><th> max </th><th> vary </th></tr><tr><td> ktC </td><td>  0.00538767 </td><td> 0.005387667391493961 </td><td>  3.6000e-06 </td><td>  0.03600000 </td><td> True </td></tr><tr><td> ktS </td><td>  0.05393505 </td><td> 0.05393504916033372 </td><td>  1.5000e-05 </td><td>  0.15000000 </td><td> True </td></tr><tr><td> ktR0 </td><td>  8.6619e-06 </td><td> 8.661930780333056e-06 </td><td>  3.6000e-07 </td><td>  0.00360000 </td><td> True </td></tr><tr><td> ktg10 </td><td>  1.5025e-05 </td><td> 1.502498673235279e-05 </td><td>  1.5000e-05 </td><td>  0.15000000 </td><td> True </td></tr><tr><td> ktg20 </td><td>  0.01071762 </td><td> 0.010717617151154497 </td><td>  1.5000e-05 </td><td>  0.15000000 </td><td> True </td></tr><tr><td> ka </td><td>  2.3224e-04 </td><td> 0.00023224042028189228 </td><td>  7.8000e-06 </td><td>  0.07800000 </td><td> True </td></tr><tr><td> ki </td><td>  9.2628e-04 </td><td> 0.0009262757791768785 </td><td>  1.2000e-05 </td><td>  0.12000000 </td><td> True </td></tr><tr><td> ktR1 </td><td>  3.9683e-04 </td><td> 0.00039683069595634044 </td><td>  2.1600e-05 </td><td>  0.21600000 </td><td> True </td></tr><tr><td> ktg21 </td><td>  2.2160e-05 </td><td> 2.215981993064605e-05 </td><td>  3.6000e-06 </td><td>  0.03600000 </td><td> True </td></tr><tr><td> caskon </td><td>  0.01181080 </td><td> 0.011810801210940221 </td><td>  1.2000e-05 </td><td>  0.12000000 </td><td> True </td></tr><tr><td> kdeg </td><td>  0.00827030 </td><td> 0.008270298289653371 </td><td>  8.2500e-06 </td><td>  0.08250000 </td><td> True </td></tr><tr><td> RFP </td><td>  4.00000000 </td><td> 4 </td><td>        -inf </td><td>         inf </td><td> False </td></tr><tr><td> scRNA </td><td>  16.0000000 </td><td> 16 </td><td>        -inf </td><td>         inf </td><td> False </td></tr><tr><td> gRNA </td><td>  1.00000000 </td><td> 1 </td><td>        -inf </td><td>         inf </td><td> False </td></tr><tr><td> pwidth </td><td>        -inf </td><td> None </td><td>        -inf </td><td>         inf </td><td> True </td></tr><tr><td> ton </td><td>        -inf </td><td> None </td><td>        -inf </td><td>         inf </td><td> True </td></tr><tr><td> toff </td><td>        -inf </td><td> None </td><td>        -inf </td><td>         inf </td><td> True </td></tr></table>"
      ],
      "text/plain": [
       "Parameters([('ktC',\n",
       "             <Parameter 'ktC', value=0.005387667391493961, bounds=[3.6e-06:0.036]>),\n",
       "            ('ktS',\n",
       "             <Parameter 'ktS', value=0.05393504916033372, bounds=[1.4999999999999999e-05:0.15]>),\n",
       "            ('ktR0',\n",
       "             <Parameter 'ktR0', value=8.661930780333056e-06, bounds=[3.5999999999999994e-07:0.0035999999999999995]>),\n",
       "            ('ktg10',\n",
       "             <Parameter 'ktg10', value=1.502498673235279e-05, bounds=[1.4999999999999999e-05:0.15]>),\n",
       "            ('ktg20',\n",
       "             <Parameter 'ktg20', value=0.010717617151154497, bounds=[1.4999999999999999e-05:0.15]>),\n",
       "            ('ka',\n",
       "             <Parameter 'ka', value=0.00023224042028189228, bounds=[7.799999999999998e-06:0.07799999999999999]>),\n",
       "            ('ki',\n",
       "             <Parameter 'ki', value=0.0009262757791768785, bounds=[1.1999999999999999e-05:0.12]>),\n",
       "            ('ktR1',\n",
       "             <Parameter 'ktR1', value=0.00039683069595634044, bounds=[2.1599999999999996e-05:0.21599999999999997]>),\n",
       "            ('ktg21',\n",
       "             <Parameter 'ktg21', value=2.215981993064605e-05, bounds=[3.6e-06:0.036]>),\n",
       "            ('caskon',\n",
       "             <Parameter 'caskon', value=0.011810801210940221, bounds=[1.1999999999999999e-05:0.12]>),\n",
       "            ('kdeg',\n",
       "             <Parameter 'kdeg', value=0.008270298289653371, bounds=[8.25e-06:0.0825]>),\n",
       "            ('RFP', <Parameter 'RFP', value=4 (fixed), bounds=[-inf:inf]>),\n",
       "            ('scRNA',\n",
       "             <Parameter 'scRNA', value=16 (fixed), bounds=[-inf:inf]>),\n",
       "            ('gRNA', <Parameter 'gRNA', value=1 (fixed), bounds=[-inf:inf]>),\n",
       "            ('pwidth', <Parameter 'pwidth', value=-inf, bounds=[-inf:inf]>),\n",
       "            ('ton', <Parameter 'ton', value=-inf, bounds=[-inf:inf]>),\n",
       "            ('toff', <Parameter 'toff', value=-inf, bounds=[-inf:inf]>)])"
      ]
     },
     "execution_count": 6,
     "metadata": {},
     "output_type": "execute_result"
    }
   ],
   "source": [
    "out.params"
   ]
  },
  {
   "cell_type": "code",
   "execution_count": 7,
   "metadata": {},
   "outputs": [
    {
     "name": "stderr",
     "output_type": "stream",
     "text": [
      "RuntimeError: Object of type <class 'NamedArray'> appears to be C subclassed NumPy array, void scalar, or allocated in a non-standard way.NumPy reserves the right to change the size of these structures. Projects are required to take this into account by either recompiling against a specific NumPy version or padding the struct and enforcing a maximum NumPy version.\n",
      "RuntimeError: Object of type <class 'NamedArray'> appears to be C subclassed NumPy array, void scalar, or allocated in a non-standard way.NumPy reserves the right to change the size of these structures. Projects are required to take this into account by either recompiling against a specific NumPy version or padding the struct and enforcing a maximum NumPy version.\n",
      "RuntimeError: Object of type <class 'NamedArray'> appears to be C subclassed NumPy array, void scalar, or allocated in a non-standard way.NumPy reserves the right to change the size of these structures. Projects are required to take this into account by either recompiling against a specific NumPy version or padding the struct and enforcing a maximum NumPy version.\n",
      "RuntimeError: Object of type <class 'NamedArray'> appears to be C subclassed NumPy array, void scalar, or allocated in a non-standard way.NumPy reserves the right to change the size of these structures. Projects are required to take this into account by either recompiling against a specific NumPy version or padding the struct and enforcing a maximum NumPy version.\n",
      "RuntimeError: Object of type <class 'NamedArray'> appears to be C subclassed NumPy array, void scalar, or allocated in a non-standard way.NumPy reserves the right to change the size of these structures. Projects are required to take this into account by either recompiling against a specific NumPy version or padding the struct and enforcing a maximum NumPy version.\n",
      "RuntimeError: Object of type <class 'NamedArray'> appears to be C subclassed NumPy array, void scalar, or allocated in a non-standard way.NumPy reserves the right to change the size of these structures. Projects are required to take this into account by either recompiling against a specific NumPy version or padding the struct and enforcing a maximum NumPy version.\n",
      "RuntimeError: Object of type <class 'NamedArray'> appears to be C subclassed NumPy array, void scalar, or allocated in a non-standard way.NumPy reserves the right to change the size of these structures. Projects are required to take this into account by either recompiling against a specific NumPy version or padding the struct and enforcing a maximum NumPy version.\n",
      "RuntimeError: Object of type <class 'NamedArray'> appears to be C subclassed NumPy array, void scalar, or allocated in a non-standard way.NumPy reserves the right to change the size of these structures. Projects are required to take this into account by either recompiling against a specific NumPy version or padding the struct and enforcing a maximum NumPy version.\n",
      "RuntimeError: Object of type <class 'NamedArray'> appears to be C subclassed NumPy array, void scalar, or allocated in a non-standard way.NumPy reserves the right to change the size of these structures. Projects are required to take this into account by either recompiling against a specific NumPy version or padding the struct and enforcing a maximum NumPy version.\n",
      "RuntimeError: Object of type <class 'NamedArray'> appears to be C subclassed NumPy array, void scalar, or allocated in a non-standard way.NumPy reserves the right to change the size of these structures. Projects are required to take this into account by either recompiling against a specific NumPy version or padding the struct and enforcing a maximum NumPy version.\n",
      "RuntimeError: Object of type <class 'NamedArray'> appears to be C subclassed NumPy array, void scalar, or allocated in a non-standard way.NumPy reserves the right to change the size of these structures. Projects are required to take this into account by either recompiling against a specific NumPy version or padding the struct and enforcing a maximum NumPy version.\n",
      "RuntimeError: Object of type <class 'NamedArray'> appears to be C subclassed NumPy array, void scalar, or allocated in a non-standard way.NumPy reserves the right to change the size of these structures. Projects are required to take this into account by either recompiling against a specific NumPy version or padding the struct and enforcing a maximum NumPy version.\n",
      "RuntimeError: Object of type <class 'NamedArray'> appears to be C subclassed NumPy array, void scalar, or allocated in a non-standard way.NumPy reserves the right to change the size of these structures. Projects are required to take this into account by either recompiling against a specific NumPy version or padding the struct and enforcing a maximum NumPy version.\n",
      "RuntimeError: Object of type <class 'NamedArray'> appears to be C subclassed NumPy array, void scalar, or allocated in a non-standard way.NumPy reserves the right to change the size of these structures. Projects are required to take this into account by either recompiling against a specific NumPy version or padding the struct and enforcing a maximum NumPy version.\n",
      "RuntimeError: Object of type <class 'NamedArray'> appears to be C subclassed NumPy array, void scalar, or allocated in a non-standard way.NumPy reserves the right to change the size of these structures. Projects are required to take this into account by either recompiling against a specific NumPy version or padding the struct and enforcing a maximum NumPy version.\n",
      "RuntimeError: Object of type <class 'NamedArray'> appears to be C subclassed NumPy array, void scalar, or allocated in a non-standard way.NumPy reserves the right to change the size of these structures. Projects are required to take this into account by either recompiling against a specific NumPy version or padding the struct and enforcing a maximum NumPy version.\n",
      "RuntimeError: Object of type <class 'NamedArray'> appears to be C subclassed NumPy array, void scalar, or allocated in a non-standard way.NumPy reserves the right to change the size of these structures. Projects are required to take this into account by either recompiling against a specific NumPy version or padding the struct and enforcing a maximum NumPy version.\n",
      "RuntimeError: Object of type <class 'NamedArray'> appears to be C subclassed NumPy array, void scalar, or allocated in a non-standard way.NumPy reserves the right to change the size of these structures. Projects are required to take this into account by either recompiling against a specific NumPy version or padding the struct and enforcing a maximum NumPy version.\n",
      "RuntimeError: Object of type <class 'NamedArray'> appears to be C subclassed NumPy array, void scalar, or allocated in a non-standard way.NumPy reserves the right to change the size of these structures. Projects are required to take this into account by either recompiling against a specific NumPy version or padding the struct and enforcing a maximum NumPy version.\n",
      "RuntimeError: Object of type <class 'NamedArray'> appears to be C subclassed NumPy array, void scalar, or allocated in a non-standard way.NumPy reserves the right to change the size of these structures. Projects are required to take this into account by either recompiling against a specific NumPy version or padding the struct and enforcing a maximum NumPy version.\n",
      "RuntimeError: Object of type <class 'NamedArray'> appears to be C subclassed NumPy array, void scalar, or allocated in a non-standard way.NumPy reserves the right to change the size of these structures. Projects are required to take this into account by either recompiling against a specific NumPy version or padding the struct and enforcing a maximum NumPy version.\n",
      "RuntimeError: Object of type <class 'NamedArray'> appears to be C subclassed NumPy array, void scalar, or allocated in a non-standard way.NumPy reserves the right to change the size of these structures. Projects are required to take this into account by either recompiling against a specific NumPy version or padding the struct and enforcing a maximum NumPy version.\n",
      "RuntimeError: Object of type <class 'NamedArray'> appears to be C subclassed NumPy array, void scalar, or allocated in a non-standard way.NumPy reserves the right to change the size of these structures. Projects are required to take this into account by either recompiling against a specific NumPy version or padding the struct and enforcing a maximum NumPy version.\n"
     ]
    },
    {
     "name": "stderr",
     "output_type": "stream",
     "text": [
      "RuntimeError: Object of type <class 'NamedArray'> appears to be C subclassed NumPy array, void scalar, or allocated in a non-standard way.NumPy reserves the right to change the size of these structures. Projects are required to take this into account by either recompiling against a specific NumPy version or padding the struct and enforcing a maximum NumPy version.\n"
     ]
    },
    {
     "data": {
      "image/png": "[encoded data removed]",
      "text/plain": [
       "<Figure size 504x504 with 25 Axes>"
      ]
     },
     "metadata": {
      "needs_background": "light"
     },
     "output_type": "display_data"
    }
   ],
   "source": [
    "import warnings\n",
    "warnings.filterwarnings('ignore')\n",
    "\n",
    "#plt.figure(figsize=(15,5))\n",
    "f,ax = plt.subplots(nrows=5, ncols=5, sharex=True, sharey=True, squeeze=True, figsize = (7,7))\n",
    "# plt.plot(t,sol_low[:,-3],'k')\n",
    "# plt.plot(t,sol_low[:,-2],'g')\n",
    "# plt.plot(t,sol_low[:,1],'r')\n",
    "ax[-1,0].set_ylabel('Rel. RFP Prod. Rate', x = -5, y = 3)\n",
    "ax[-1,0].set_xlabel('time (min)', x=3,y=-5)\n",
    "\n",
    "for r,sc in enumerate([ 0, 10, 20, 50, 80]):\n",
    "    for c,pwidth in enumerate([135,50,40,20,0]):   \n",
    "        p = ['ktC','ktS','ktR0','ktg10','ktg20','ka','ki','ktR1','ktg21','caskon','kdeg','RFP','scRNA','gRNA','pwidth','ton','toff']\n",
    "        out.params['RFP'].value = 10\n",
    "        out.params['scRNA'].value = sc\n",
    "        out.params['gRNA'].value = 20\n",
    "        if pwidth == 0:\n",
    "            ton = 0\n",
    "            toff = 0\n",
    "        else:\n",
    "            ton = 0.1\n",
    "            toff = 2*(pwidth/40)**2\n",
    "        out.params['pwidth'].value = pwidth/60\n",
    "        out.params['ton'].value = ton\n",
    "        out.params['toff'].value = toff\n",
    "\n",
    "        rr = te.loada(CRISPRa_model.format(*[out.params[i].value for i in p]))\n",
    "        rr.timeCourseSelections = ['time','[RFP_ON]']\n",
    "        sol_low = rr.simulate(0,800*60,100)\n",
    "\n",
    "        ax[c,r].plot(sol_low[:,0][1:]/60, np.diff(sol_low[:,1],n=1),'b')\n",
    "        ax[c,r].set_xticks([0,800])\n",
    "        ax[c,r].set_yticklabels([0,0,1])\n",
    "        \n",
    "        tmax = np.argmax(np.diff(sol_low[:,1],n=1))\n",
    "        ax[c,r].plot([sol_low[:,0][1:][tmax]/60]*2, [0,np.max(np.diff(sol_low[:,1],n=1))],'k--', alpha = 0.75)\n",
    "        ax[c,r].plot([0,sol_low[:,0][1:][tmax]/60], [np.max(np.diff(sol_low[:,1],n=1))]*2,'k--', alpha = 0.75)\n",
    "\n",
    "plt.savefig('pulses_sim.svg')"
   ]
  },
  {
   "cell_type": "code",
   "execution_count": null,
   "metadata": {},
   "outputs": [],
   "source": []
  },
  {
   "cell_type": "code",
   "execution_count": 250,
   "metadata": {},
   "outputs": [
    {
     "name": "stderr",
     "output_type": "stream",
     "text": [
      "RuntimeError: Object of type <class 'NamedArray'> appears to be C subclassed NumPy array, void scalar, or allocated in a non-standard way.NumPy reserves the right to change the size of these structures. Projects are required to take this into account by either recompiling against a specific NumPy version or padding the struct and enforcing a maximum NumPy version.\n"
     ]
    },
    {
     "data": {
      "image/png": "[encoded data removed]",
      "text/plain": [
       "<Figure size 432x288 with 1 Axes>"
      ]
     },
     "metadata": {},
     "output_type": "display_data"
    },
    {
     "name": "stderr",
     "output_type": "stream",
     "text": [
      "RuntimeError: Object of type <class 'NamedArray'> appears to be C subclassed NumPy array, void scalar, or allocated in a non-standard way.NumPy reserves the right to change the size of these structures. Projects are required to take this into account by either recompiling against a specific NumPy version or padding the struct and enforcing a maximum NumPy version.\n"
     ]
    }
   ],
   "source": [
    "import tellurium as te\n",
    "import roadrunner\n",
    "\n",
    "r = te.loada(\"\"\"\n",
    "\n",
    " \n",
    "    J1: $Xo -> s1; k1*Xo;\n",
    "         s1 -> ;  k2*s1;\n",
    "    k1 = 1; k2 = 0.4\n",
    "    \n",
    "    pwidth = 500/60;\n",
    "    ton = 0.5;\n",
    "    toff = 8;\n",
    "    td = 2\n",
    "    \n",
    "    Xo := piecewise (0, (time >=0) && (time <= 60*60),\\\n",
    "                     (blmax/(ton*60*60))*(time-60*60), (time >=60*60) && (time <= (1+ton)*60*60),\\\n",
    "                     blmax, (time >=(1+ton)*60*60) && (time <= (1+ton+pwidth)*60*60),\\\n",
    "                     (-blmax/(toff*60*60))*(time-(1+ton+pwidth)*60*60)+blmax, (time >=(1+ton+pwidth)*60*60) && (time <= (1+ton+pwidth+toff)*60*60),\\\n",
    "                     0)\n",
    "    blmax = 1\n",
    "    \n",
    "\"\"\")\n",
    "   \n",
    "#te.saveToFile ('c:\\\\tmp\\\\spline.xml', r.getSBML());\n",
    "m = r.simulate (0,60*10*100,100, ['time', 'Xo', 's1'])\n",
    "r.plot()"
   ]
  },
  {
   "cell_type": "code",
   "execution_count": 99,
   "metadata": {},
   "outputs": [
    {
     "data": {
      "text/plain": [
       "60.0"
      ]
     },
     "execution_count": 99,
     "metadata": {},
     "output_type": "execute_result"
    }
   ],
   "source": [
    "3600/60"
   ]
  },
  {
   "cell_type": "code",
   "execution_count": null,
   "metadata": {},
   "outputs": [],
   "source": []
  }
 ],
 "metadata": {
  "kernelspec": {
   "display_name": "Python 3",
   "language": "python",
   "name": "python3"
  },
  "language_info": {
   "codemirror_mode": {
    "name": "ipython",
    "version": 3
   },
   "file_extension": ".py",
   "mimetype": "text/x-python",
   "name": "python",
   "nbconvert_exporter": "python",
   "pygments_lexer": "ipython3",
   "version": "3.7.6"
  }
 },
 "nbformat": 4,
 "nbformat_minor": 2
}
